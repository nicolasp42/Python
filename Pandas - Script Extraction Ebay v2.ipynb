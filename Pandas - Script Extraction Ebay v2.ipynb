{
 "cells": [
  {
   "cell_type": "code",
   "execution_count": 1,
   "metadata": {},
   "outputs": [],
   "source": [
    "import pandas as pd\n",
    "import os"
   ]
  },
  {
   "cell_type": "code",
   "execution_count": 2,
   "metadata": {},
   "outputs": [],
   "source": [
    "cwd = os.getcwd()"
   ]
  },
  {
   "cell_type": "code",
   "execution_count": 3,
   "metadata": {},
   "outputs": [
    {
     "data": {
      "text/plain": [
       "'C:\\\\Users\\\\n.pertuizet\\\\Desktop\\\\Extraction ebay\\\\Extraction_EBAY_UK_2018_12'"
      ]
     },
     "execution_count": 3,
     "metadata": {},
     "output_type": "execute_result"
    }
   ],
   "source": [
    "cwd"
   ]
  },
  {
   "cell_type": "code",
   "execution_count": 4,
   "metadata": {},
   "outputs": [],
   "source": [
    "Name_of_the_file_dealers = 'Extraction_EBAY_UK_2018_12_Dealers.csv'\n",
    "Name_of_the_file_private = 'Extraction_EBAY_UK_2018_12_Privates.csv'\n",
    "Dealer_listing = 'Extraction_Autotrader_UK_2018_12_Autobiz.csv'\n",
    "new_ads_panel = '3.performance.panel UK.18_12_December.xls'\n",
    "analysis_current_month = 'Analyse Extract Ebay December 2018.xlsx'"
   ]
  },
  {
   "cell_type": "code",
   "execution_count": 5,
   "metadata": {},
   "outputs": [],
   "source": [
    "#Analyse annonces particuliers\n",
    "db_private = pd.read_csv(Name_of_the_file_private, delimiter = '\\t', encoding = 'utf-8', error_bad_lines=False)\n",
    "new_ads_panel = pd.read_excel(new_ads_panel,sheet_name='3-1 - New ads')"
   ]
  },
  {
   "cell_type": "code",
   "execution_count": 6,
   "metadata": {},
   "outputs": [],
   "source": [
    "db_private_totalvehicles = db_private['Total Vehicles'].groupby(db_private['Marketplace']).sum()"
   ]
  },
  {
   "cell_type": "code",
   "execution_count": 7,
   "metadata": {},
   "outputs": [],
   "source": [
    "db_private_30days = db_private['Vehicle < 30d'].groupby(db_private['Marketplace']).sum()"
   ]
  },
  {
   "cell_type": "code",
   "execution_count": 8,
   "metadata": {},
   "outputs": [],
   "source": [
    "db_private_4months = db_private['Vehicle < 4 Months'].groupby(db_private['Marketplace']).sum()"
   ]
  },
  {
   "cell_type": "code",
   "execution_count": 9,
   "metadata": {},
   "outputs": [],
   "source": [
    "new_ads_private = {'Marketplace': ['Autotrader', 'Cargurus', 'Ebay', 'Exchangeandmart', 'GumTree', 'Motors', 'Pistonheads', 'Raccars', 'Trusteddealers', 'Usedcarsni', 'Vcars'],\n",
    "                   'new_ads_private': [new_ads_panel.iloc[65,3], new_ads_panel.iloc[65,6], new_ads_panel.iloc[65,9], new_ads_panel.iloc[65,12], new_ads_panel.iloc[65,15], new_ads_panel.iloc[65,18], new_ads_panel.iloc[65,21], new_ads_panel.iloc[65,24], new_ads_panel.iloc[65,27], new_ads_panel.iloc[65,30], new_ads_panel.iloc[65,33]]}\n",
    "new_ads_private = pd.DataFrame(new_ads_private)"
   ]
  },
  {
   "cell_type": "code",
   "execution_count": 10,
   "metadata": {},
   "outputs": [],
   "source": [
    "db_private_4months = db_private_4months.reset_index()\n",
    "db_private_30days = db_private_30days.reset_index()\n",
    "db_private_totalvehicles = db_private_totalvehicles.reset_index()\n",
    "new_ads_private = new_ads_private.reset_index()"
   ]
  },
  {
   "cell_type": "code",
   "execution_count": 11,
   "metadata": {},
   "outputs": [],
   "source": [
    "db_private_4months_30days = pd.merge(db_private_4months, db_private_30days, how='left', on=['Marketplace'])"
   ]
  },
  {
   "cell_type": "code",
   "execution_count": 12,
   "metadata": {},
   "outputs": [],
   "source": [
    "db_private_4months_30days_newads = pd.merge(db_private_4months_30days, new_ads_private, how='left', on=['Marketplace'])"
   ]
  },
  {
   "cell_type": "code",
   "execution_count": 13,
   "metadata": {},
   "outputs": [],
   "source": [
    "db_private_4months_30days_newads['New ads Delta'] = db_private_4months_30days_newads['Vehicle < 30d'] - db_private_4months_30days_newads['new_ads_private']"
   ]
  },
  {
   "cell_type": "code",
   "execution_count": 14,
   "metadata": {},
   "outputs": [],
   "source": [
    "db_private_4months_30days_newads['New ads Variation'] = (db_private_4months_30days_newads['Vehicle < 30d'] - db_private_4months_30days_newads['new_ads_private'])/db_private_4months_30days_newads['new_ads_private']*100"
   ]
  },
  {
   "cell_type": "code",
   "execution_count": 15,
   "metadata": {},
   "outputs": [],
   "source": [
    "db_private_final = pd.merge(db_private_4months_30days_newads, db_private_totalvehicles, how='left', on=['Marketplace'])"
   ]
  },
  {
   "cell_type": "code",
   "execution_count": 16,
   "metadata": {
    "scrolled": true
   },
   "outputs": [],
   "source": [
    "db_private_final = db_private_final.drop('index', 1)"
   ]
  },
  {
   "cell_type": "code",
   "execution_count": 17,
   "metadata": {},
   "outputs": [],
   "source": [
    "#Analyse nombre de pros\n",
    "db_dealers = pd.read_csv(Name_of_the_file_dealers, delimiter = '\\t', encoding = 'utf-8', low_memory=False, error_bad_lines=False)\n",
    "bdd = pd.read_csv(Dealer_listing , delimiter = '\\t',encoding = 'utf-8',error_bad_lines=False, dtype = {'Zip Code': str, 'Phone': str, 'Fax':str} )\n",
    "bdd = bdd.fillna('')"
   ]
  },
  {
   "cell_type": "code",
   "execution_count": 18,
   "metadata": {},
   "outputs": [],
   "source": [
    "dealer_count_previous = db_dealers.groupby(['Dealer ID','Marketplace']).size()\n",
    "dealer_count = dealer_count_previous.groupby(['Marketplace']).size()"
   ]
  },
  {
   "cell_type": "code",
   "execution_count": 19,
   "metadata": {},
   "outputs": [],
   "source": [
    "number_of_dealers = {'Marketplace': ['Autotrader', 'Cargurus', 'Ebay', 'Exchangeandmart', 'GumTree', 'Motors', 'Pistonheads', 'Raccars', 'Trusteddealers', 'Usedcarsni', 'Vcars'],\n",
    "                     'number of dealers': [bdd['Autotrader'].astype(bool).sum(axis=0), bdd['Cargurus'].astype(bool).sum(axis=0), bdd['Ebay'].astype(bool).sum(axis=0), bdd['Exchangeandmart'].astype(bool).sum(axis=0), bdd['GumTree'].astype(bool).sum(axis=0), bdd['Motors'].astype(bool).sum(axis=0), bdd['Pistonheads'].astype(bool).sum(axis=0), bdd['Raccars'].astype(bool).sum(axis=0), bdd['Trusteddealers'].astype(bool).sum(axis=0), bdd['Usedcarsni'].astype(bool).sum(axis=0), bdd['Vcars'].astype(bool).sum(axis=0)]}\n",
    "number_of_dealers = pd.DataFrame(number_of_dealers)"
   ]
  },
  {
   "cell_type": "code",
   "execution_count": 20,
   "metadata": {},
   "outputs": [],
   "source": [
    "dealer_count  = dealer_count.reset_index()\n",
    "number_of_dealers = number_of_dealers.reset_index()"
   ]
  },
  {
   "cell_type": "code",
   "execution_count": 21,
   "metadata": {},
   "outputs": [],
   "source": [
    "number_dealer_analysis = pd.merge(dealer_count, number_of_dealers, how='left', on=['Marketplace'])\n",
    "number_dealer_analysis.columns = ['Marketplace', 'Extract ebay', 'Index', 'Number of dealers']"
   ]
  },
  {
   "cell_type": "code",
   "execution_count": 22,
   "metadata": {},
   "outputs": [],
   "source": [
    "number_dealer_analysis['Delta'] = number_dealer_analysis['Number of dealers'] - number_dealer_analysis['Extract ebay']\n",
    "number_dealer_analysis['Variation'] = (number_dealer_analysis['Delta']/number_dealer_analysis['Extract ebay'])*100"
   ]
  },
  {
   "cell_type": "code",
   "execution_count": 23,
   "metadata": {},
   "outputs": [],
   "source": [
    "number_dealer_analysis = number_dealer_analysis.drop('Index', 1)"
   ]
  },
  {
   "cell_type": "code",
   "execution_count": 24,
   "metadata": {},
   "outputs": [],
   "source": [
    "#Analyse annonces de pro\n",
    "db_dealers_totalvehicles = db_dealers['Total Vehicles'].groupby(db_dealers['Marketplace']).sum()"
   ]
  },
  {
   "cell_type": "code",
   "execution_count": 25,
   "metadata": {},
   "outputs": [],
   "source": [
    "db_dealers_30days = db_dealers['Vehicle < 30d'].groupby(db_dealers['Marketplace']).sum()"
   ]
  },
  {
   "cell_type": "code",
   "execution_count": 26,
   "metadata": {},
   "outputs": [],
   "source": [
    "db_dealers_4months = db_dealers['Vehicle < 4 Months'].groupby(db_dealers['Marketplace']).sum()"
   ]
  },
  {
   "cell_type": "code",
   "execution_count": 27,
   "metadata": {},
   "outputs": [],
   "source": [
    "new_ads_dealers = {'Marketplace': ['Autotrader', 'Cargurus', 'Ebay', 'Exchangeandmart', 'GumTree', 'Motors', 'Pistonheads', 'Raccars', 'Trusteddealers', 'Usedcarsni', 'Vcars'],\n",
    "                   'new_ads_dealers': [new_ads_panel.iloc[43,3], new_ads_panel.iloc[43,6], new_ads_panel.iloc[43,9], new_ads_panel.iloc[43,12], new_ads_panel.iloc[43,15], new_ads_panel.iloc[43,18], new_ads_panel.iloc[43,21], new_ads_panel.iloc[43,24], new_ads_panel.iloc[43,27], new_ads_panel.iloc[43,30], new_ads_panel.iloc[43,33]]}\n",
    "new_ads_dealers = pd.DataFrame(new_ads_dealers)"
   ]
  },
  {
   "cell_type": "code",
   "execution_count": 28,
   "metadata": {},
   "outputs": [],
   "source": [
    "db_dealers_4months = db_dealers_4months.reset_index()\n",
    "db_dealers_30days = db_dealers_30days.reset_index()\n",
    "db_dealers_totalvehicles = db_dealers_totalvehicles.reset_index()\n",
    "new_ads_dealers = new_ads_dealers.reset_index()"
   ]
  },
  {
   "cell_type": "code",
   "execution_count": 29,
   "metadata": {},
   "outputs": [],
   "source": [
    "db_dealers_4months_30days = pd.merge(db_dealers_4months, db_dealers_30days, how='left', on=['Marketplace'])"
   ]
  },
  {
   "cell_type": "code",
   "execution_count": 30,
   "metadata": {},
   "outputs": [],
   "source": [
    "db_dealers_4months_30days_newads = pd.merge(db_dealers_4months_30days, new_ads_dealers, how='left', on=['Marketplace'])"
   ]
  },
  {
   "cell_type": "code",
   "execution_count": 31,
   "metadata": {},
   "outputs": [],
   "source": [
    "db_dealers_4months_30days_newads['New ads Delta'] = db_dealers_4months_30days_newads['Vehicle < 30d'] - db_dealers_4months_30days_newads['new_ads_dealers']"
   ]
  },
  {
   "cell_type": "code",
   "execution_count": 32,
   "metadata": {},
   "outputs": [],
   "source": [
    "db_dealers_4months_30days_newads['New ads Variation'] = (db_dealers_4months_30days_newads['Vehicle < 30d'] - db_dealers_4months_30days_newads['new_ads_dealers'])/db_dealers_4months_30days_newads['new_ads_dealers']*100"
   ]
  },
  {
   "cell_type": "code",
   "execution_count": 33,
   "metadata": {},
   "outputs": [],
   "source": [
    "db_dealers_final = pd.merge(db_dealers_4months_30days_newads, db_dealers_totalvehicles, how='left', on=['Marketplace'])"
   ]
  },
  {
   "cell_type": "code",
   "execution_count": 34,
   "metadata": {},
   "outputs": [],
   "source": [
    "db_dealers_final = db_dealers_final.drop('index', 1)"
   ]
  },
  {
   "cell_type": "code",
   "execution_count": 35,
   "metadata": {},
   "outputs": [],
   "source": [
    "writer = pd.ExcelWriter(analysis_current_month, engine='xlsxwriter')\n",
    "pd.ExcelWriter(os.path.join(os.path.dirname(os.path.abspath(analysis_current_month)),\"result.xlsx\"))\n",
    "db_private_final.to_excel(writer, sheet_name='Private ads', index = False)\n",
    "number_dealer_analysis.to_excel(writer, sheet_name='Number of dealers', index = False)\n",
    "db_dealers_final.to_excel(writer, sheet_name='Dealer ads', index = False)"
   ]
  },
  {
   "cell_type": "code",
   "execution_count": 36,
   "metadata": {},
   "outputs": [],
   "source": [
    "writer = pd.ExcelWriter(analysis_current_month, engine='xlsxwriter')\n",
    "db_private_final.to_excel(writer, sheet_name='Private ads', index = False)\n",
    "number_dealer_analysis.to_excel(writer, sheet_name='Number of dealers', index = False)\n",
    "db_dealers_final.to_excel(writer, sheet_name='Dealer ads', index = False)\n",
    "writer.save()"
   ]
  },
  {
   "cell_type": "code",
   "execution_count": null,
   "metadata": {},
   "outputs": [],
   "source": []
  },
  {
   "cell_type": "code",
   "execution_count": null,
   "metadata": {},
   "outputs": [],
   "source": []
  },
  {
   "cell_type": "code",
   "execution_count": null,
   "metadata": {},
   "outputs": [],
   "source": []
  }
 ],
 "metadata": {
  "kernelspec": {
   "display_name": "Python 3",
   "language": "python",
   "name": "python3"
  },
  "language_info": {
   "codemirror_mode": {
    "name": "ipython",
    "version": 3
   },
   "file_extension": ".py",
   "mimetype": "text/x-python",
   "name": "python",
   "nbconvert_exporter": "python",
   "pygments_lexer": "ipython3",
   "version": "3.7.0"
  }
 },
 "nbformat": 4,
 "nbformat_minor": 2
}
