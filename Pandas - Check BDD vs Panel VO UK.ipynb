{
 "cells": [
  {
   "cell_type": "code",
   "execution_count": 1,
   "metadata": {
    "collapsed": true
   },
   "outputs": [],
   "source": [
    "import pandas as pd"
   ]
  },
  {
   "cell_type": "code",
   "execution_count": 2,
   "metadata": {
    "collapsed": true
   },
   "outputs": [],
   "source": [
    "database_extraction_current_month_before_script = 'Extraction_Autotrader_UK_2018_08_Autobiz.csv'\n",
    "database_extraction_current_month_after_script = '180801-June-UK-Database Autotrader Dealer Listing.xlsx'\n",
    "panel_current_month_file = '4.Clients.panel UK.18_08_August.xls'"
   ]
  },
  {
   "cell_type": "code",
   "execution_count": 3,
   "metadata": {
    "collapsed": true
   },
   "outputs": [],
   "source": [
    "db = pd.read_csv(database_extraction_current_month_before_script , delimiter = '\\t',encoding = 'utf-8',error_bad_lines=False, dtype = {'Zip Code': str, 'Phone': str, 'Fax':str} )"
   ]
  },
  {
   "cell_type": "code",
   "execution_count": 4,
   "metadata": {
    "collapsed": true
   },
   "outputs": [],
   "source": [
    "db = db.fillna('')"
   ]
  },
  {
   "cell_type": "code",
   "execution_count": 5,
   "metadata": {
    "collapsed": true
   },
   "outputs": [],
   "source": [
    "panel_current_month_agent_ads_figures = pd.read_excel(panel_current_month_file,sheetname=1)"
   ]
  },
  {
   "cell_type": "code",
   "execution_count": 6,
   "metadata": {
    "collapsed": true
   },
   "outputs": [],
   "source": [
    "dealer_panel_autotrader = panel_current_month_agent_ads_figures.iloc[6,0]\n",
    "dealer_panel_cargurus = panel_current_month_agent_ads_figures.iloc[6,3]\n",
    "dealer_panel_ebay = panel_current_month_agent_ads_figures.iloc[6,6]\n",
    "dealer_panel_exchangeandmart = panel_current_month_agent_ads_figures.iloc[6,9]\n",
    "dealer_panel_gumtree = panel_current_month_agent_ads_figures.iloc[6,12]\n",
    "dealer_panel_motors = panel_current_month_agent_ads_figures.iloc[6,15]\n",
    "dealer_panel_pistonheads = panel_current_month_agent_ads_figures.iloc[6,18]\n",
    "dealer_panel_raccars = panel_current_month_agent_ads_figures.iloc[6,21]\n",
    "dealer_panel_trusteddealers = panel_current_month_agent_ads_figures.iloc[6,24]\n",
    "dealer_panel_usedcarsni = panel_current_month_agent_ads_figures.iloc[6,27]\n",
    "dealer_panel_vcars = panel_current_month_agent_ads_figures.iloc[6,30]\n"
   ]
  },
  {
   "cell_type": "code",
   "execution_count": null,
   "metadata": {
    "collapsed": true
   },
   "outputs": [],
   "source": [
    "dealer_BDD_autotrader = db['Autotrader'].astype(bool).sum(axis=0)\n",
    "dealer_BDD_cargurus = db['Cargurus'].astype(bool).sum(axis=0)\n",
    "dealer_BDD_ebay = db['Ebay'].astype(bool).sum(axis=0)\n",
    "dealer_BDD_exchangeandmart = db['Exchangeandmart'].astype(bool).sum(axis=0)\n",
    "dealer_BDD_gumtree = db['GumTree'].astype(bool).sum(axis=0)\n",
    "dealer_BDD_motors = db['Motors'].astype(bool).sum(axis=0)\n",
    "dealer_BDD_pistonheads = db['Pistonheads'].astype(bool).sum(axis=0)\n",
    "dealer_BDD_raccars = db['Raccars'].astype(bool).sum(axis=0)\n",
    "dealer_BDD_trusteddealers = db['Trusteddealers'].astype(bool).sum(axis=0)\n",
    "dealer_BDD_usedcarsni = db['Usedcarsni'].astype(bool).sum(axis=0)\n",
    "dealer_BDD_vcars = db['Vcars'].astype(bool).sum(axis=0)"
   ]
  },
  {
   "cell_type": "code",
   "execution_count": null,
   "metadata": {
    "collapsed": true
   },
   "outputs": [],
   "source": [
    "varation_dealer_autotrader = (dealer_BDD_autotrader-dealer_panel_autotrader)/dealer_panel_autotrader*100\n",
    "varation_dealer_cargurus = (dealer_BDD_cargurus-dealer_panel_cargurus)/dealer_panel_cargurus*100\n",
    "varation_dealer_ebay  = (dealer_BDD_ebay -dealer_panel_ebay )/dealer_panel_ebay *100\n",
    "varation_dealer_exchangeandmart = (dealer_BDD_exchangeandmart-dealer_panel_exchangeandmart)/dealer_panel_exchangeandmart*100\n",
    "varation_dealer_gumtree = (dealer_BDD_gumtree-dealer_panel_gumtree)/dealer_panel_gumtree*100\n",
    "varation_dealer_motors = (dealer_BDD_motors-dealer_panel_motors)/dealer_panel_motors*100\n",
    "varation_dealer_pistonheads = (dealer_BDD_pistonheads-dealer_panel_pistonheads)/dealer_panel_pistonheads*100\n",
    "varation_dealer_raccars = (dealer_BDD_raccars-dealer_panel_raccars)/dealer_panel_raccars*100\n",
    "varation_dealer_trusteddealers = (dealer_BDD_trusteddealers-dealer_panel_trusteddealers)/dealer_panel_trusteddealers*100\n",
    "varation_dealer_usedcarsni = (dealer_BDD_usedcarsni-dealer_panel_usedcarsni)/dealer_panel_usedcarsni*100\n",
    "varation_dealer_vcars = (dealer_BDD_vcars-dealer_panel_vcars)/dealer_panel_vcars*100"
   ]
  },
  {
   "cell_type": "code",
   "execution_count": null,
   "metadata": {
    "collapsed": true
   },
   "outputs": [],
   "source": [
    "ads_panel_autotrader = panel_current_month_agent_ads_figures.iloc[6,1]\n",
    "ads_panel_cargurus = panel_current_month_agent_ads_figures.iloc[6,4]\n",
    "ads_panel_ebay = panel_current_month_agent_ads_figures.iloc[6,7]\n",
    "ads_panel_exchangeandmart = panel_current_month_agent_ads_figures.iloc[6,10]\n",
    "ads_panel_gumtree = panel_current_month_agent_ads_figures.iloc[6,13]\n",
    "ads_panel_motors = panel_current_month_agent_ads_figures.iloc[6,16]\n",
    "ads_panel_pistonheads = panel_current_month_agent_ads_figures.iloc[6,19]\n",
    "ads_panel_raccars = panel_current_month_agent_ads_figures.iloc[6,22]\n",
    "ads_panel_trusteddealers = panel_current_month_agent_ads_figures.iloc[6,28]\n",
    "ads_panel_usedcarsni = panel_current_month_agent_ads_figures.iloc[6,31]\n",
    "ads_panel_vcars = panel_current_month_agent_ads_figures.iloc[6,34]"
   ]
  },
  {
   "cell_type": "code",
   "execution_count": null,
   "metadata": {
    "collapsed": true
   },
   "outputs": [],
   "source": [
    "ads_BDD_autotrader = db['Autotrader'].astype(str).replace('','0').apply(lambda x: x.replace('.0','')).astype(int).sum()\n",
    "ads_BDD_cargurus = db['Cargurus'].astype(str).replace('','0').apply(lambda x: x.replace('.0','')).astype(int).sum()\n",
    "ads_BDD_ebay = db['Ebay'].astype(str).replace('','0').apply(lambda x: x.replace('.0','')).astype(int).sum()\n",
    "ads_BDD_exchangeandmart = db['Exchangeandmart'].astype(str).replace('','0').apply(lambda x: x.replace('.0','')).astype(int).sum()\n",
    "ads_BDD_gumtree = db['GumTree'].astype(str).replace('','0').apply(lambda x: x.replace('.0','')).astype(int).sum()\n",
    "ads_BDD_motors = db['Motors'].astype(str).replace('','0').apply(lambda x: x.replace('.0','')).astype(int).sum()\n",
    "ads_BDD_pistonheads = db['Pistonheads'].astype(str).replace('','0').apply(lambda x: x.replace('.0','')).astype(int).sum()\n",
    "ads_BDD_raccars = db['Raccars'].astype(str).replace('','0').apply(lambda x: x.replace('.0','')).astype(int).sum()\n",
    "ads_BDD_trusteddealers = db['Trusteddealers'].astype(str).replace('','0').apply(lambda x: x.replace('.0','')).astype(int).sum()\n",
    "ads_BDD_usedcarsni = db['Usedcarsni'].astype(str).replace('','0').apply(lambda x: x.replace('.0','')).astype(int).sum()\n",
    "ads_BDD_vcars = db['Vcars'].astype(str).replace('','0').apply(lambda x: x.replace('.0','')).astype(int).sum()"
   ]
  },
  {
   "cell_type": "code",
   "execution_count": null,
   "metadata": {
    "collapsed": true
   },
   "outputs": [],
   "source": [
    "varation_ads_autotrader = (ads_BDD_autotrader-ads_panel_autotrader)/ads_panel_autotrader*100\n",
    "varation_ads_cargurus = (ads_BDD_cargurus-ads_panel_cargurus)/ads_panel_cargurus*100\n",
    "varation_ads_ebay  = (ads_BDD_ebay -ads_panel_ebay )/ads_panel_ebay *100\n",
    "varation_ads_exchangeandmart = (ads_BDD_exchangeandmart-ads_panel_exchangeandmart)/ads_panel_exchangeandmart*100\n",
    "varation_ads_gumtree = (ads_BDD_gumtree-ads_panel_gumtree)/ads_panel_gumtree*100\n",
    "varation_ads_motors = (ads_BDD_motors-ads_panel_motors)/ads_panel_motors*100\n",
    "varation_ads_pistonheads = (ads_BDD_pistonheads-ads_panel_pistonheads)/ads_panel_pistonheads*100\n",
    "varation_ads_raccars = (ads_BDD_raccars-ads_panel_raccars)/ads_panel_raccars*100\n",
    "varation_ads_trusteddealers = (ads_BDD_trusteddealers-ads_panel_trusteddealers)/ads_panel_trusteddealers*100\n",
    "varation_ads_usedcarsni = (ads_BDD_usedcarsni-ads_panel_usedcarsni)/ads_panel_usedcarsni*100\n",
    "varation_ads_vcars = (ads_BDD_vcars-ads_panel_vcars)/ads_panel_vcars*100"
   ]
  },
  {
   "cell_type": "code",
   "execution_count": null,
   "metadata": {
    "collapsed": true
   },
   "outputs": [],
   "source": [
    "variation = {'dealer_panel': [dealer_panel_autotrader, dealer_panel_cargurus, dealer_panel_ebay, dealer_panel_exchangeandmart, dealer_panel_gumtree, dealer_panel_motors, dealer_panel_pistonheads, dealer_panel_raccars, dealer_panel_trusteddealers, dealer_panel_usedcarsni, dealer_panel_vcars], 'dealer_BDD': [dealer_BDD_autotrader, dealer_BDD_cargurus, dealer_BDD_ebay, dealer_BDD_exchangeandmart, dealer_BDD_gumtree, dealer_BDD_motors, dealer_BDD_pistonheads, dealer_BDD_raccars, dealer_BDD_trusteddealers, dealer_BDD_usedcarsni, dealer_BDD_vcars], 'variation_BDD': [varation_dealer_autotrader, varation_dealer_cargurus, varation_dealer_ebay, varation_dealer_exchangeandmart, varation_dealer_gumtree, varation_dealer_motors, varation_dealer_pistonheads, varation_dealer_raccars, varation_dealer_trusteddealers, varation_dealer_usedcarsni, varation_dealer_vcars], 'ads_panel': [ads_panel_autotrader, ads_panel_cargurus, ads_panel_ebay, ads_panel_exchangeandmart, ads_panel_gumtree, ads_panel_motors, ads_panel_pistonheads, ads_panel_raccars, ads_panel_trusteddealers, ads_panel_usedcarsni, ads_panel_vcars], 'ads_BDD': [ads_BDD_autotrader, ads_BDD_cargurus, ads_BDD_ebay, ads_BDD_exchangeandmart, ads_BDD_gumtree, ads_BDD_motors, ads_BDD_pistonheads, ads_BDD_raccars, ads_BDD_trusteddealers, ads_BDD_usedcarsni, ads_BDD_vcars], 'variation_ads': [varation_ads_autotrader, varation_ads_cargurus, varation_ads_ebay, varation_ads_exchangeandmart, varation_ads_gumtree, varation_ads_motors, varation_ads_pistonheads, varation_ads_raccars, varation_ads_trusteddealers, varation_ads_usedcarsni, varation_ads_vcars], 'websites': ['Autotrader', 'Cargurus', 'Ebay', 'Exchangeandmart', 'Gumtree', 'Motors', 'Pistonheads', 'Raccars', 'Trusteddealers', 'Usedcarsni', 'Vcars' ]}"
   ]
  },
  {
   "cell_type": "code",
   "execution_count": null,
   "metadata": {
    "collapsed": true
   },
   "outputs": [],
   "source": [
    "df = pd.DataFrame.from_dict(variation)"
   ]
  },
  {
   "cell_type": "code",
   "execution_count": null,
   "metadata": {
    "collapsed": true
   },
   "outputs": [],
   "source": [
    "df.to_excel('Variation_BDD.xlsx',sheet_name='Sheet1')"
   ]
  },
  {
   "cell_type": "code",
   "execution_count": null,
   "metadata": {
    "collapsed": true
   },
   "outputs": [],
   "source": []
  }
 ],
 "metadata": {
  "kernelspec": {
   "display_name": "Python 3",
   "language": "python",
   "name": "python3"
  },
  "language_info": {
   "codemirror_mode": {
    "name": "ipython",
    "version": 3
   },
   "file_extension": ".py",
   "mimetype": "text/x-python",
   "name": "python",
   "nbconvert_exporter": "python",
   "pygments_lexer": "ipython3",
   "version": "3.6.2"
  }
 },
 "nbformat": 4,
 "nbformat_minor": 2
}
