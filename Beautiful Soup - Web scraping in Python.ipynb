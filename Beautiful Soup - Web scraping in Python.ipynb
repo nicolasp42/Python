{
 "cells": [
  {
   "cell_type": "code",
   "execution_count": 1,
   "metadata": {},
   "outputs": [],
   "source": [
    "from bs4 import BeautifulSoup\n",
    "import requests"
   ]
  },
  {
   "cell_type": "code",
   "execution_count": 2,
   "metadata": {},
   "outputs": [],
   "source": [
    "import pandas as pd\n",
    "from pandas import Series,DataFrame"
   ]
  },
  {
   "cell_type": "code",
   "execution_count": 3,
   "metadata": {},
   "outputs": [],
   "source": [
    "url = 'http://www.ucop.edu/operating-budget/budgets-and-reports/legislative-reports/2013-14-legislative-session.html'\n"
   ]
  },
  {
   "cell_type": "code",
   "execution_count": 4,
   "metadata": {},
   "outputs": [],
   "source": [
    "result = requests.get(url)"
   ]
  },
  {
   "cell_type": "code",
   "execution_count": 5,
   "metadata": {},
   "outputs": [],
   "source": [
    "c = result.content"
   ]
  },
  {
   "cell_type": "code",
   "execution_count": 6,
   "metadata": {},
   "outputs": [],
   "source": [
    "soup = BeautifulSoup(c)"
   ]
  },
  {
   "cell_type": "code",
   "execution_count": 8,
   "metadata": {},
   "outputs": [],
   "source": [
    "summary = soup.find('div',{'class':'list-land','id':'content'})"
   ]
  },
  {
   "cell_type": "code",
   "execution_count": 9,
   "metadata": {},
   "outputs": [],
   "source": [
    "tables = summary.find_all('table')"
   ]
  },
  {
   "cell_type": "code",
   "execution_count": 11,
   "metadata": {},
   "outputs": [],
   "source": [
    "data = []"
   ]
  },
  {
   "cell_type": "code",
   "execution_count": 12,
   "metadata": {},
   "outputs": [
    {
     "name": "stdout",
     "output_type": "stream",
     "text": [
      "1\n",
      "08/01/13\n",
      "2013-14 (EDU 92495) Proposed Capital Outlay Projects (2013-14 only) (pdf)\n",
      "2\n",
      "09/01/13\n",
      "2014-15  (EDU 92495) Proposed Capital Outlay Projects (pdf)\n",
      "3\n",
      "11/01/13\n",
      "Utilization of Classroom and Teaching Laboratories (pdf)\n",
      "4\n",
      "11/01/13\n",
      "Instruction and Research Space Summary & Analysis (pdf)\n",
      "5\n",
      "11/15/13\n",
      "Statewide Energy Partnership Program (pdf)\n",
      "6\n",
      "11/30/13\n",
      "2013-23 Capital Financial Plan (pdf)\n",
      "7\n",
      "11/30/13\n",
      "Projects Savings Funded from Capital Outlay Bond Funds (pdf)\n",
      "8\n",
      "12/01/13\n",
      "Streamlined Capital Projects Funded from Capital (pdf)\n",
      "9\n",
      "01/01/14\n",
      "Annual General Obligation Bonds Accountability (pdf)\n",
      "10\n",
      "01/01/14\n",
      "Small Business Utilization (pdf)\n",
      "11\n",
      "01/01/14\n",
      "Institutional Financial Aid Programs - Preliminary report (pdf)\n",
      "12\n",
      "01/10/14\n",
      "Summer Enrollment (pdf)\n",
      "13\n",
      "01/15/14\n",
      "Contracting Out for Services at Newly Developed Facilities (pdf)\n",
      "14\n",
      "03/01/14\n",
      "Performance Measures (pdf)\n",
      "15\n",
      "03/01/14\n",
      "Entry Level Writing Requirement (pdf)\n",
      "16\n",
      "03/31/14\n",
      "Annual Report on Student Financial Support (pdf)\n",
      "17\n",
      "04/01/14\n",
      "Unique Statewide Pupil Identifier (pdf)\n",
      "18\n",
      "04/01/14\n",
      "Riverside School of Medicine (pdf)\n",
      "19\n",
      "04/01/14\n",
      "SAPEP Funds and Outcomes - N/A\n",
      "20\n",
      "05/15/14\n",
      "Receipt and Use of Lottery Funds (pdf)\n",
      "21\n",
      "07/01/14\n",
      "Cogeneration and Energy Consv Major Capital Projects (pdf)\n",
      "\n",
      "\n",
      "\n",
      "\n",
      "\n",
      "\n",
      " \n",
      "Future Reports\n",
      "\n",
      "\n",
      "24\n",
      "12-\n",
      "Breast Cancer Research Fund\n",
      "25\n",
      "12-31-15\n",
      "Cigarette and Tobacco Products Surtax Research Program\n",
      "26\n",
      "01-01-16\n",
      "Best Value Program\n",
      "27\n",
      "01-01-16\n",
      "California Subject Matter Programs\n",
      "28\n",
      "04-01-16\n",
      "COSMOS Program Outcomes\n"
     ]
    }
   ],
   "source": [
    "rows = tables[0].findAll('tr')\n",
    "for tr in rows:\n",
    "    cols = tr.findAll('td')\n",
    "    \n",
    "    for td in cols:\n",
    "        text = td.find(text=True)\n",
    "        print(text),\n",
    "        data.append(text)"
   ]
  },
  {
   "cell_type": "code",
   "execution_count": 13,
   "metadata": {},
   "outputs": [
    {
     "data": {
      "text/plain": [
       "['1',\n",
       " '08/01/13',\n",
       " '2013-14 (EDU 92495) Proposed Capital Outlay Projects (2013-14 only) (pdf)',\n",
       " '2',\n",
       " '09/01/13',\n",
       " '2014-15\\xa0 (EDU 92495) Proposed Capital Outlay Projects (pdf)',\n",
       " '3',\n",
       " '11/01/13',\n",
       " 'Utilization of Classroom and Teaching Laboratories (pdf)',\n",
       " '4',\n",
       " '11/01/13',\n",
       " 'Instruction and Research Space Summary & Analysis (pdf)',\n",
       " '5',\n",
       " '11/15/13',\n",
       " 'Statewide Energy Partnership Program (pdf)',\n",
       " '6',\n",
       " '11/30/13',\n",
       " '2013-23 Capital Financial Plan (pdf)',\n",
       " '7',\n",
       " '11/30/13',\n",
       " 'Projects Savings Funded from Capital Outlay Bond Funds (pdf)',\n",
       " '8',\n",
       " '12/01/13',\n",
       " 'Streamlined Capital Projects Funded from Capital (pdf)',\n",
       " '9',\n",
       " '01/01/14',\n",
       " 'Annual General Obligation Bonds Accountability (pdf)',\n",
       " '10',\n",
       " '01/01/14',\n",
       " 'Small Business Utilization (pdf)',\n",
       " '11',\n",
       " '01/01/14',\n",
       " 'Institutional Financial Aid Programs - Preliminary report (pdf)',\n",
       " '12',\n",
       " '01/10/14',\n",
       " 'Summer Enrollment (pdf)',\n",
       " '13',\n",
       " '01/15/14',\n",
       " 'Contracting Out for Services at Newly Developed Facilities (pdf)',\n",
       " '14',\n",
       " '03/01/14',\n",
       " 'Performance Measures (pdf)',\n",
       " '15',\n",
       " '03/01/14',\n",
       " 'Entry Level Writing Requirement (pdf)',\n",
       " '16',\n",
       " '03/31/14',\n",
       " 'Annual Report on Student\\xa0Financial Support (pdf)',\n",
       " '17',\n",
       " '04/01/14',\n",
       " 'Unique Statewide Pupil Identifier (pdf)',\n",
       " '18',\n",
       " '04/01/14',\n",
       " 'Riverside School of Medicine (pdf)',\n",
       " '19',\n",
       " '04/01/14',\n",
       " 'SAPEP Funds and Outcomes - N/A',\n",
       " '20',\n",
       " '05/15/14',\n",
       " 'Receipt and Use of Lottery Funds (pdf)',\n",
       " '21',\n",
       " '07/01/14',\n",
       " 'Cogeneration and Energy Consv Major Capital Projects (pdf)',\n",
       " '\\n',\n",
       " '\\n',\n",
       " '\\n',\n",
       " '\\xa0',\n",
       " 'Future Reports',\n",
       " '\\n',\n",
       " '24',\n",
       " '12-',\n",
       " 'Breast Cancer Research Fund',\n",
       " '25',\n",
       " '12-31-15',\n",
       " 'Cigarette and Tobacco Products Surtax Research Program',\n",
       " '26',\n",
       " '01-01-16',\n",
       " 'Best Value Program',\n",
       " '27',\n",
       " '01-01-16',\n",
       " 'California Subject Matter Programs',\n",
       " '28',\n",
       " '04-01-16',\n",
       " 'COSMOS Program Outcomes']"
      ]
     },
     "execution_count": 13,
     "metadata": {},
     "output_type": "execute_result"
    }
   ],
   "source": [
    "data"
   ]
  },
  {
   "cell_type": "code",
   "execution_count": 31,
   "metadata": {},
   "outputs": [],
   "source": [
    "reports = []\n",
    "date = []\n",
    "\n",
    "index = 0\n",
    "\n",
    "for item in data:\n",
    "    if 'pdf' in item:\n",
    "        date.append(data[index-1])\n",
    "        \n",
    "        reports.append(item.replace('\\xa0', '\\n'))\n",
    "                    \n",
    "    index += 1"
   ]
  },
  {
   "cell_type": "code",
   "execution_count": 33,
   "metadata": {},
   "outputs": [],
   "source": [
    "date = Series(date)\n",
    "reports = Series(reports)"
   ]
  },
  {
   "cell_type": "code",
   "execution_count": 35,
   "metadata": {},
   "outputs": [],
   "source": [
    "legislative_df = pd.concat([date,reports],axis=1)"
   ]
  },
  {
   "cell_type": "code",
   "execution_count": 36,
   "metadata": {},
   "outputs": [],
   "source": [
    "legislative_df.columns = ['Date','Report']"
   ]
  },
  {
   "cell_type": "code",
   "execution_count": 37,
   "metadata": {},
   "outputs": [
    {
     "data": {
      "text/html": [
       "<div>\n",
       "<style scoped>\n",
       "    .dataframe tbody tr th:only-of-type {\n",
       "        vertical-align: middle;\n",
       "    }\n",
       "\n",
       "    .dataframe tbody tr th {\n",
       "        vertical-align: top;\n",
       "    }\n",
       "\n",
       "    .dataframe thead th {\n",
       "        text-align: right;\n",
       "    }\n",
       "</style>\n",
       "<table border=\"1\" class=\"dataframe\">\n",
       "  <thead>\n",
       "    <tr style=\"text-align: right;\">\n",
       "      <th></th>\n",
       "      <th>Date</th>\n",
       "      <th>Report</th>\n",
       "    </tr>\n",
       "  </thead>\n",
       "  <tbody>\n",
       "    <tr>\n",
       "      <th>0</th>\n",
       "      <td>08/01/13</td>\n",
       "      <td>2013-14 (EDU 92495) Proposed Capital Outlay Pr...</td>\n",
       "    </tr>\n",
       "    <tr>\n",
       "      <th>1</th>\n",
       "      <td>09/01/13</td>\n",
       "      <td>2014-15\\n (EDU 92495) Proposed Capital Outlay ...</td>\n",
       "    </tr>\n",
       "    <tr>\n",
       "      <th>2</th>\n",
       "      <td>11/01/13</td>\n",
       "      <td>Utilization of Classroom and Teaching Laborato...</td>\n",
       "    </tr>\n",
       "    <tr>\n",
       "      <th>3</th>\n",
       "      <td>11/01/13</td>\n",
       "      <td>Instruction and Research Space Summary &amp; Analy...</td>\n",
       "    </tr>\n",
       "    <tr>\n",
       "      <th>4</th>\n",
       "      <td>11/15/13</td>\n",
       "      <td>Statewide Energy Partnership Program (pdf)</td>\n",
       "    </tr>\n",
       "  </tbody>\n",
       "</table>\n",
       "</div>"
      ],
      "text/plain": [
       "       Date                                             Report\n",
       "0  08/01/13  2013-14 (EDU 92495) Proposed Capital Outlay Pr...\n",
       "1  09/01/13  2014-15\\n (EDU 92495) Proposed Capital Outlay ...\n",
       "2  11/01/13  Utilization of Classroom and Teaching Laborato...\n",
       "3  11/01/13  Instruction and Research Space Summary & Analy...\n",
       "4  11/15/13         Statewide Energy Partnership Program (pdf)"
      ]
     },
     "execution_count": 37,
     "metadata": {},
     "output_type": "execute_result"
    }
   ],
   "source": [
    "legislative_df.head()"
   ]
  },
  {
   "cell_type": "code",
   "execution_count": null,
   "metadata": {},
   "outputs": [],
   "source": []
  }
 ],
 "metadata": {
  "kernelspec": {
   "display_name": "Python 3",
   "language": "python",
   "name": "python3"
  },
  "language_info": {
   "codemirror_mode": {
    "name": "ipython",
    "version": 3
   },
   "file_extension": ".py",
   "mimetype": "text/x-python",
   "name": "python",
   "nbconvert_exporter": "python",
   "pygments_lexer": "ipython3",
   "version": "3.7.0"
  }
 },
 "nbformat": 4,
 "nbformat_minor": 2
}
