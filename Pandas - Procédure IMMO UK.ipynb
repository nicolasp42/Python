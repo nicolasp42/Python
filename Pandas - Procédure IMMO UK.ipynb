{
 "cells": [
  {
   "cell_type": "code",
   "execution_count": 1,
   "metadata": {},
   "outputs": [],
   "source": [
    "import pandas as pd\n",
    "import numpy as np"
   ]
  },
  {
   "cell_type": "code",
   "execution_count": 2,
   "metadata": {},
   "outputs": [],
   "source": [
    "database_extraction_current_month_before_script = 'immo_uk_zoopla_2018_12.csv'\n",
    "database_extraction_current_month_after_script = 'autobiz_December18_RealEstate_Database.xlsx'\n",
    "correspondence_table = pd.read_excel('C:/Users/n.pertuizet/Desktop/IMMO UK/1812/2. Minisites inconnus\\Correspondance table IMMO UK Decembre.xlsx')"
   ]
  },
  {
   "cell_type": "code",
   "execution_count": 3,
   "metadata": {},
   "outputs": [
    {
     "name": "stderr",
     "output_type": "stream",
     "text": [
      "C:\\ProgramData\\Anaconda3\\lib\\site-packages\\IPython\\core\\interactiveshell.py:2785: DtypeWarning: Columns (23) have mixed types. Specify dtype option on import or set low_memory=False.\n",
      "  interactivity=interactivity, compiler=compiler, result=result)\n"
     ]
    }
   ],
   "source": [
    "db = pd.read_csv(database_extraction_current_month_before_script , delimiter = ';',encoding = 'latin9',error_bad_lines=False, dtype = {'outcode': str, 'incode': str, 'Phone 1': str, 'Phone 2':str} )\n",
    "postcodes = pd.read_excel('C:/Users/n.pertuizet/Desktop/IMMO UK\\postcodes.xlsx')"
   ]
  },
  {
   "cell_type": "code",
   "execution_count": 4,
   "metadata": {},
   "outputs": [],
   "source": [
    "correspondence_table_pivoted = pd.pivot_table(correspondence_table, values = ['Agent ID - External ID'], index = ['autobiz ID'], columns = ['Website'], aggfunc=len)\n",
    "correspondence_table_pivoted = correspondence_table_pivoted.fillna('')\n",
    "correspondence_table_pivoted.columns = correspondence_table_pivoted.columns.to_series().str.join(' ')\n",
    "correspondence_table_pivoted = correspondence_table_pivoted.reset_index()"
   ]
  },
  {
   "cell_type": "code",
   "execution_count": 5,
   "metadata": {},
   "outputs": [],
   "source": [
    "db.insert(1, 'Status', '')"
   ]
  },
  {
   "cell_type": "code",
   "execution_count": 6,
   "metadata": {},
   "outputs": [],
   "source": [
    "db.insert(4, 'Nb of Zoopla ID', db['Autobiz ID'].map(correspondence_table_pivoted.set_index('autobiz ID')['Agent ID - External ID zoopla']))"
   ]
  },
  {
   "cell_type": "code",
   "execution_count": 7,
   "metadata": {},
   "outputs": [],
   "source": [
    "db.loc[db['Zoopla ID'].isnull(),'Nb of Zoopla ID'] = db['Zoopla ID']"
   ]
  },
  {
   "cell_type": "code",
   "execution_count": 8,
   "metadata": {},
   "outputs": [],
   "source": [
    "db.insert(6, 'Nb of OTM ID', db['Autobiz ID'].map(correspondence_table_pivoted.set_index('autobiz ID')['Agent ID - External ID onthemarket']))"
   ]
  },
  {
   "cell_type": "code",
   "execution_count": 9,
   "metadata": {},
   "outputs": [],
   "source": [
    "db.loc[db['OTM ID'].isnull(),'Nb of OTM ID'] = db['OTM ID']"
   ]
  },
  {
   "cell_type": "code",
   "execution_count": 10,
   "metadata": {},
   "outputs": [],
   "source": [
    "db.insert(8, 'Nb of RTM ID', db['Autobiz ID'].map(correspondence_table_pivoted.set_index('autobiz ID')['Agent ID - External ID rightmove']))"
   ]
  },
  {
   "cell_type": "code",
   "execution_count": 11,
   "metadata": {},
   "outputs": [],
   "source": [
    "db.loc[db['Rightmove ID'].isnull(),'Nb of RTM ID'] = db['Rightmove ID']"
   ]
  },
  {
   "cell_type": "code",
   "execution_count": 12,
   "metadata": {},
   "outputs": [],
   "source": [
    "db.insert(25, 'County 2', db['outcode'].map(postcodes.set_index('postcode')['region']))"
   ]
  },
  {
   "cell_type": "code",
   "execution_count": 13,
   "metadata": {},
   "outputs": [],
   "source": [
    "db.loc[db['County'].isnull(),'County'] = db['County 2']"
   ]
  },
  {
   "cell_type": "code",
   "execution_count": 14,
   "metadata": {},
   "outputs": [],
   "source": [
    "db = db.drop('County 2', 1)"
   ]
  },
  {
   "cell_type": "code",
   "execution_count": 15,
   "metadata": {},
   "outputs": [],
   "source": [
    "db = db.fillna('')"
   ]
  },
  {
   "cell_type": "code",
   "execution_count": 16,
   "metadata": {},
   "outputs": [],
   "source": [
    "db.loc[db['City'].str.contains('\\('), 'County'] = 'Overseas'"
   ]
  },
  {
   "cell_type": "code",
   "execution_count": 17,
   "metadata": {},
   "outputs": [],
   "source": [
    "def concat(row):\n",
    "    if str(row['Zoopla ID']) != \"\":\n",
    "        return str(row['Autobiz ID'])+'-'+ str(row['Zoopla ID'])\n",
    "    else: return \"\"\n",
    "db['Id A - Id Z']=db.apply(concat,axis=1)"
   ]
  },
  {
   "cell_type": "code",
   "execution_count": 18,
   "metadata": {},
   "outputs": [],
   "source": [
    "db['Id A - Id Z'] = db['Id A - Id Z'].apply(lambda x: x.replace('.0',''))"
   ]
  },
  {
   "cell_type": "code",
   "execution_count": 19,
   "metadata": {},
   "outputs": [],
   "source": [
    "db[['Branch name','Autobiz company name', 'Zoopla company name', 'group name', 'Network Name', 'Address 1','Address 2', 'City', 'County']] = db[['Branch name','Autobiz company name', 'Zoopla company name', 'group name', 'Network Name', 'Address 1','Address 2', 'City', 'County']].apply(lambda x: x.str.title())"
   ]
  },
  {
   "cell_type": "code",
   "execution_count": 20,
   "metadata": {},
   "outputs": [],
   "source": [
    "db[['outcode','incode']] = db[['outcode','incode']].apply(lambda x: x.str.upper())"
   ]
  },
  {
   "cell_type": "code",
   "execution_count": 21,
   "metadata": {},
   "outputs": [],
   "source": [
    "db[['Autobiz company ID', 'Autobiz group ID', 'Zoopla company ID']] = db[['Autobiz company ID', 'Autobiz group ID', 'Zoopla company ID']].replace({0: ''})"
   ]
  },
  {
   "cell_type": "code",
   "execution_count": 22,
   "metadata": {},
   "outputs": [],
   "source": [
    "db['City'] = db['City'].astype(str).apply(lambda x: x.replace('Italie', 'Italy'))\n",
    "db['City'] = db['City'].astype(str).apply(lambda x: x.replace('Greek', 'Greece'))\n",
    "db['City'] = db['City'].astype(str).apply(lambda x: x.replace('Grece', 'Greece'))\n",
    "db['City'] = db['City'].astype(str).apply(lambda x: x.replace('Espagne', 'Spain'))\n",
    "db['City'] = db['City'].astype(str).apply(lambda x: x.replace('Suède', 'Sweden'))\n",
    "db['City'] = db['City'].astype(str).apply(lambda x: x.replace('États-Unis', 'USA'))\n",
    "db['City'] = db['City'].astype(str).apply(lambda x: x.replace('Usa', 'USA'))\n",
    "db['City'] = db['City'].astype(str).apply(lambda x: x.replace('Uas', 'USA'))\n",
    "db['City'] = db['City'].astype(str).apply(lambda x: x.replace('United States Of America', 'USA'))\n",
    "db['City'] = db['City'].astype(str).apply(lambda x: x.replace('Andorre', 'Andorra'))\n",
    "db['City'] = db['City'].astype(str).apply(lambda x: x.replace('United States', 'USA'))\n",
    "db['City'] = db['City'].astype(str).apply(lambda x: x.replace('California', 'USA'))\n",
    "db['City'] = db['City'].astype(str).apply(lambda x: x.replace('Swiss', 'Switzerland'))\n",
    "db['City'] = db['City'].astype(str).apply(lambda x: x.replace('États-Unis', 'USA'))\n",
    "db['City'] = db['City'].astype(str).apply(lambda x: x.replace('United States', 'USA'))\n",
    "db['City'] = db['City'].astype(str).apply(lambda x: x.replace('Austrial', 'Australia'))\n",
    "db['City'] = db['City'].astype(str).apply(lambda x: x.replace('Australie', 'Australia'))\n",
    "db['City'] = db['City'].astype(str).apply(lambda x: x.replace('Gambie', 'Gambia'))\n",
    "db['City'] = db['City'].astype(str).apply(lambda x: x.replace('Barbade', 'Barbados'))\n",
    "db['City'] = db['City'].astype(str).apply(lambda x: x.replace('Bulgaire', 'Bulgaria'))\n",
    "db['City'] = db['City'].astype(str).apply(lambda x: x.replace('Bulgarie', 'Bulgaria'))\n",
    "db['City'] = db['City'].astype(str).apply(lambda x: x.replace('Bugaria', 'Bulgaria'))\n",
    "db['City'] = db['City'].astype(str).apply(lambda x: x.replace('Frence', 'France'))\n",
    "db['City'] = db['City'].astype(str).apply(lambda x: x.replace('Grèce', 'Greece'))\n",
    "db['City'] = db['City'].astype(str).apply(lambda x: x.replace('Inde', 'India'))\n",
    "db['City'] = db['City'].astype(str).apply(lambda x: x.replace('Les Caraïbes', 'Caribbean'))\n",
    "db['City'] = db['City'].astype(str).apply(lambda x: x.replace('Caraïbes', 'Caribbean'))\n",
    "db['City'] = db['City'].astype(str).apply(lambda x: x.replace('Maroc', 'Morocco'))\n",
    "db['City'] = db['City'].astype(str).apply(lambda x: x.replace('Nouvelle Zelande', 'New Zealand'))\n",
    "db['City'] = db['City'].astype(str).apply(lambda x: x.replace('Zelande', 'New Zealand'))\n",
    "db['City'] = db['City'].astype(str).apply(lambda x: x.replace('Slovenie', 'Slovenia'))\n",
    "db['City'] = db['City'].astype(str).apply(lambda x: x.replace('Suisse', 'Switzerland'))\n",
    "db['City'] = db['City'].astype(str).apply(lambda x: x.replace('Bosnie-Herzégovine', 'Bosnia'))\n",
    "db['City'] = db['City'].astype(str).apply(lambda x: x.replace('Cambodge', 'Cambodia'))\n",
    "db['City'] = db['City'].astype(str).apply(lambda x: x.replace('Cap-Vert', 'Cap Verde'))\n",
    "db['City'] = db['City'].astype(str).apply(lambda x: x.replace('Chypre', 'Cyprus'))\n",
    "db['City'] = db['City'].astype(str).apply(lambda x: x.replace('Emirats Arabes Unis', 'UAE'))\n",
    "db['City'] = db['City'].astype(str).apply(lambda x: x.replace('Émirats Arabes Unis', 'UAE'))\n",
    "db['City'] = db['City'].astype(str).apply(lambda x: x.replace('España', 'Spain'))\n",
    "db['City'] = db['City'].astype(str).apply(lambda x: x.replace('Etat Unis', 'USA'))\n",
    "db['City'] = db['City'].astype(str).apply(lambda x: x.replace('Hongrie', 'Hungary'))\n",
    "db['City'] = db['City'].astype(str).apply(lambda x: x.replace('Afrique Du Sud', 'South Africa'))\n",
    "db['City'] = db['City'].astype(str).apply(lambda x: x.replace('Mointenegro', 'Montenegro'))\n",
    "db['City'] = db['City'].astype(str).apply(lambda x: x.replace('Monténégro', 'Montenegro'))\n",
    "db['City'] = db['City'].astype(str).apply(lambda x: x.replace('New-Zélande', 'New Zealand'))\n",
    "db['City'] = db['City'].astype(str).apply(lambda x: x.replace('Potugal', 'Portugal'))\n",
    "db['City'] = db['City'].astype(str).apply(lambda x: x.replace('Spanish', 'Spain'))\n",
    "db['City'] = db['City'].astype(str).apply(lambda x: x.replace('Sapin', 'Spain'))\n",
    "db['City'] = db['City'].astype(str).apply(lambda x: x.replace('Thaïland', 'Thailand'))\n",
    "db['City'] = db['City'].astype(str).apply(lambda x: x.replace('Uea', 'UAE'))\n",
    "db['City'] = db['City'].astype(str).apply(lambda x: x.replace('Uae', 'UAE'))\n",
    "db['City'] = db['City'].astype(str).apply(lambda x: x.replace('United Arab Emirates', 'UAE'))\n",
    "db['City'] = db['City'].astype(str).apply(lambda x: x.replace('Irland', 'Ireland'))\n",
    "db['City'] = db['City'].astype(str).apply(lambda x: x.replace('Irlanda', 'Ireland'))\n",
    "db['City'] = db['City'].astype(str).apply(lambda x: x.replace('Irlande', 'Ireland'))\n",
    "db['City'] = db['City'].astype(str).apply(lambda x: x.replace('Irelande', 'Ireland'))\n"
   ]
  },
  {
   "cell_type": "code",
   "execution_count": 23,
   "metadata": {},
   "outputs": [],
   "source": [
    "def remove_double_space(string):\n",
    "        return string.replace('  ', ' ')"
   ]
  },
  {
   "cell_type": "code",
   "execution_count": 24,
   "metadata": {},
   "outputs": [],
   "source": [
    "def remove_amp(string):\n",
    "        return string.replace('Amp;', '')"
   ]
  },
  {
   "cell_type": "code",
   "execution_count": 25,
   "metadata": {},
   "outputs": [],
   "source": [
    "def remove_apostrophe(string):\n",
    "        return string.replace(\"'\", '')"
   ]
  },
  {
   "cell_type": "code",
   "execution_count": 26,
   "metadata": {},
   "outputs": [],
   "source": [
    "writer = pd.ExcelWriter(database_extraction_current_month_after_script, engine='xlsxwriter')\n",
    "db.to_excel(writer, sheet_name='Sheet1', freeze_panes=(1,1), index = False)\n",
    "correspondence_table.to_excel(writer, sheet_name='Correspondence Table', freeze_panes=(1,1), index = False)\n",
    "writer.save()"
   ]
  },
  {
   "cell_type": "code",
   "execution_count": null,
   "metadata": {},
   "outputs": [],
   "source": []
  }
 ],
 "metadata": {
  "kernelspec": {
   "display_name": "Python 3",
   "language": "python",
   "name": "python3"
  },
  "language_info": {
   "codemirror_mode": {
    "name": "ipython",
    "version": 3
   },
   "file_extension": ".py",
   "mimetype": "text/x-python",
   "name": "python",
   "nbconvert_exporter": "python",
   "pygments_lexer": "ipython3",
   "version": "3.7.0"
  }
 },
 "nbformat": 4,
 "nbformat_minor": 2
}
